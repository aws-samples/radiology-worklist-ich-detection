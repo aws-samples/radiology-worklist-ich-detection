{
 "cells": [
  {
   "cell_type": "markdown",
   "id": "f33bf1a9-0112-43ef-8ccc-d95c3f5f738b",
   "metadata": {},
   "source": [
    "## Install and Import Libraries"
   ]
  },
  {
   "cell_type": "code",
   "execution_count": null,
   "id": "756fd9c3-442b-439a-96be-e21474e07d2e",
   "metadata": {
    "tags": []
   },
   "outputs": [],
   "source": [
    "!pip install pydicom"
   ]
  },
  {
   "cell_type": "code",
   "execution_count": null,
   "id": "267dd170-23d8-4052-b26f-7464d412d296",
   "metadata": {
    "tags": []
   },
   "outputs": [],
   "source": [
    "import glob, pylab, pandas as pd\n",
    "import cv2\n",
    "import pydicom, numpy as np\n",
    "from os import listdir\n",
    "from os.path import isfile, join\n",
    "import matplotlib.pylab as plt\n",
    "import os\n",
    "import seaborn as sns\n",
    "import tensorflow as tf\n",
    "from tqdm import tqdm\n",
    "import joblib\n",
    "import PIL\n",
    "import json\n",
    "import seaborn as sns\n",
    "from collections import Counter\n",
    "from PIL import Image\n",
    "import math\n",
    "from collections import defaultdict\n",
    "from pathlib import Path\n",
    "import re\n",
    "import logging as l\n",
    "from glob import glob\n",
    "import argparse"
   ]
  },
  {
   "cell_type": "markdown",
   "id": "4755c63f-7d27-46e7-8d42-2907d63ed29e",
   "metadata": {},
   "source": [
    "## Load and Preprocess Data"
   ]
  },
  {
   "cell_type": "code",
   "execution_count": null,
   "id": "a408c695-1fdc-4856-b091-2978f17844ca",
   "metadata": {
    "tags": []
   },
   "outputs": [],
   "source": [
    "#Load and Preprocess labels\n",
    "label = pd.read_csv(\"rsna-intracranial-hemorrhage-detection/stage_2_train.csv\")\n",
    "label = label[label['ID'].str.contains('any')].reset_index(drop=True)\n",
    "label['ID'] = label['ID'].str[:-4]\n",
    "label['ID'] = label['ID'].astype(str) + '.dcm'"
   ]
  },
  {
   "cell_type": "code",
   "execution_count": null,
   "id": "3ac7f9a2-b959-4ed4-bd1d-73bddb3fdbc2",
   "metadata": {
    "tags": []
   },
   "outputs": [],
   "source": [
    "train_images_dir = 'rsna-intracranial-hemorrhage-detection/stage_2_train/'\n",
    "train_images = [f for f in listdir(train_images_dir) if isfile(join(train_images_dir, f))]"
   ]
  },
  {
   "cell_type": "markdown",
   "id": "f347eddf-9993-48d5-8c0e-9346147992f6",
   "metadata": {},
   "source": [
    "### Plot Sample Data"
   ]
  },
  {
   "cell_type": "code",
   "execution_count": null,
   "id": "19e96d57-04ec-40a7-a66b-096ea47794b1",
   "metadata": {},
   "outputs": [],
   "source": [
    "fig=plt.figure(figsize=(20, 12))\n",
    "columns = 5; rows = 3\n",
    "for i in range(1, columns*rows +1):\n",
    "    ds = pydicom.dcmread(train_images_dir + train_images[i])\n",
    "    fig.add_subplot(rows, columns, i)\n",
    "    plt.imshow(ds.pixel_array, cmap=plt.cm.bone)\n",
    "    fig.add_subplot"
   ]
  },
  {
   "cell_type": "markdown",
   "id": "ce6149f2-efff-40ba-aa76-7b176a255736",
   "metadata": {},
   "source": [
    "### Plot ICH vs ICH label distribution"
   ]
  },
  {
   "cell_type": "code",
   "execution_count": null,
   "id": "0b3160f9-04ec-444c-a1a4-927dea9ff112",
   "metadata": {
    "tags": []
   },
   "outputs": [],
   "source": [
    "plt.style.use('seaborn-bright')\n",
    "ax = label['Label'].value_counts().plot(kind='barh', figsize=(11,5),fontsize=14, color=['C0', 'C2']);\n",
    "ax.set_alpha(0.8)\n",
    "ax.set_xlabel(\"Hemorrhage and No-Hemorrhage Label Counts\", fontsize=18);\n",
    "ax.set_xlim(0, 720000)\n",
    "#ax.set_yticks(['Haemorrhage', 'No-Haemorrhage'])\n",
    "\n",
    "labels = [item.get_text() for item in ax.get_yticklabels()]\n",
    "labels = ['No-Hemorrhage', 'Hemorrhage']\n",
    "ax.set_yticklabels(labels)\n",
    "\n",
    "# create a list to collect the plt.patches data\n",
    "totals = []\n",
    "# find the values and append to list\n",
    "for i in ax.patches:\n",
    "    totals.append(i.get_width())\n",
    "# set individual bar lables using above list\n",
    "total = sum(totals)\n",
    "# set individual bar lables using above list\n",
    "for i in ax.patches:\n",
    "    # get_width pulls left or right; get_y pushes up or down\n",
    "    ax.text(i.get_width()+.3, i.get_y()+.38, \\\n",
    "            str(round((i.get_width()/total)*100, 2))+'%', fontsize=16,\n",
    "color='black')\n",
    "# invert for largest on top\n",
    "ax.invert_yaxis()\n",
    "ax.grid()\n",
    "ax.figure.savefig('hemorrhage_label_plot.png', dpi = 300, bbox_inches='tight')"
   ]
  },
  {
   "cell_type": "code",
   "execution_count": null,
   "id": "1a1e76f5-6c12-44cf-8207-d58ad6cef26a",
   "metadata": {
    "tags": []
   },
   "outputs": [],
   "source": [
    "from sklearn.model_selection import train_test_split\n",
    "\n",
    "df_train, df_test = train_test_split(df, test_size=0.10, stratify=df[[\"Label\"]])\n",
    "\n",
    "df_train_1 = df_train['ID'][df_train['Label'] == 1].to_list()\n",
    "df_train_0 = df_train['ID'][df_train['Label'] == 0].to_list()\n",
    "\n",
    "df_test_1 = df_test['ID'][df_test['Label'] == 1].to_list()\n",
    "df_test_0 = df_test['ID'][df_test['Label'] == 0].to_list()"
   ]
  },
  {
   "cell_type": "markdown",
   "id": "2d0e7f4e-d372-4d41-a029-449ec6afd1a2",
   "metadata": {},
   "source": [
    "## Data Processing - Rescale, Resize and Convert to JPG"
   ]
  },
  {
   "cell_type": "code",
   "execution_count": null,
   "id": "f594bfb0-81f8-4c40-9a2d-2031aec7f19b",
   "metadata": {},
   "outputs": [],
   "source": [
    "dir_src = 'rsna-intracranial-hemorrhage-detection/stage_2_train'\n",
    "dir_dst_train_0 = 'rsna-intracranial-hemorrhage-detection/main_data/train_data_dcm/no_hemorrhage'\n",
    "dir_dst_train_1 = 'rsna-intracranial-hemorrhage-detection/main_data/train_data_dcm/hemorrhage'\n",
    "\n",
    "def tranfer_train_data(filelist, source, destination):\n",
    "    for i in filelist[1:]: \n",
    "        shutil.copy(os.path.join(source, i), destination)"
   ]
  },
  {
   "cell_type": "code",
   "execution_count": null,
   "id": "e0ad1479-ed47-40cd-98dd-26c99920a5e1",
   "metadata": {
    "tags": []
   },
   "outputs": [],
   "source": [
    "tranfer_train_data(df_train_0, dir_src, dir_dst_train_0)\n",
    "tranfer_train_data(df_train_1, dir_src, dir_dst_train_1)"
   ]
  },
  {
   "cell_type": "code",
   "execution_count": null,
   "id": "dfeb951c-37da-4592-98b1-f6216c92b5fe",
   "metadata": {
    "tags": []
   },
   "outputs": [],
   "source": [
    "# %load prepare_data.py\n",
    "import joblib\n",
    "import PIL\n",
    "from glob import glob\n",
    "import pydicom\n",
    "import numpy as np\n",
    "import pandas as pd\n",
    "import os\n",
    "import cv2\n",
    "import json\n",
    "import matplotlib.pyplot as plt\n",
    "import seaborn as sns\n",
    "from collections import Counter\n",
    "from PIL import Image\n",
    "import math\n",
    "import seaborn as sns\n",
    "from collections import defaultdict\n",
    "from pathlib import Path\n",
    "import cv2\n",
    "from tqdm import tqdm\n",
    "import re\n",
    "import logging as l\n",
    "from glob import glob\n",
    "import argparse\n",
    "\n",
    "def get_first_of_dicom_field_as_int(x):\n",
    "    if type(x) == pydicom.multival.MultiValue:\n",
    "        return int(x[0])\n",
    "    return int(x)\n",
    "\n",
    "def get_id(img_dicom):\n",
    "    return str(img_dicom.SOPInstanceUID)\n",
    "\n",
    "def get_metadata_from_dicom(img_dicom):\n",
    "    metadata = {\n",
    "        \"window_center\": img_dicom.WindowCenter,\n",
    "        \"window_width\": img_dicom.WindowWidth,\n",
    "        \"intercept\": img_dicom.RescaleIntercept,\n",
    "        \"slope\": img_dicom.RescaleSlope,\n",
    "    }\n",
    "    return {k: get_first_of_dicom_field_as_int(v) for k, v in metadata.items()}\n",
    "\n",
    "def window_image(img, window_center, window_width, intercept, slope):\n",
    "    img = img * slope + intercept\n",
    "    img_min = window_center - window_width // 2\n",
    "    img_max = window_center + window_width // 2\n",
    "    img[img < img_min] = img_min\n",
    "    img[img > img_max] = img_max\n",
    "    return img \n",
    "\n",
    "def resize(img, new_w, new_h):\n",
    "    img = PIL.Image.fromarray(img.astype(np.int8), mode=\"L\")\n",
    "    return img.resize((new_w, new_h), resample=PIL.Image.BICUBIC)\n",
    "\n",
    "def save_img(img_pil, subfolder, name):\n",
    "    img_pil.save(subfolder+name+'.jpg')\n",
    "\n",
    "def normalize_minmax(img):\n",
    "    mi, ma = img.min(), img.max()\n",
    "    return (img - mi) / (ma - mi)\n",
    "\n",
    "def prepare_image(img_path):\n",
    "    img_dicom = pydicom.read_file(img_path)\n",
    "    img_id = get_id(img_dicom)\n",
    "    metadata = get_metadata_from_dicom(img_dicom)\n",
    "    img = window_image(img_dicom.pixel_array, **metadata)\n",
    "    img = normalize_minmax(img) * 255\n",
    "    img = PIL.Image.fromarray(img.astype(np.int8), mode=\"L\")\n",
    "    return img_id, img\n",
    "\n",
    "def prepare_and_save(img_path, subfolder):\n",
    "    try:\n",
    "        img_id, img_pil = prepare_image(img_path)\n",
    "        save_img(img_pil, subfolder, img_id)\n",
    "    except KeyboardInterrupt:\n",
    "        # Rais interrupt exception so we can stop the cell execution\n",
    "        # without shutting down the kernel.\n",
    "        raise\n",
    "    except:\n",
    "        l.error('Error processing the image: {'+img_path+'}')\n",
    "\n",
    "def prepare_images(imgs_path, subfolder):\n",
    "    for i in tqdm.tqdm(imgs_path):\n",
    "        prepare_and_save(i, subfolder)\n",
    "\n",
    "def prepare_images_njobs(img_paths, subfolder, n_jobs=-1):\n",
    "    joblib.Parallel(n_jobs=n_jobs)(joblib.delayed(prepare_and_save)(i, subfolder) for i in tqdm(img_paths))\n",
    "\n",
    "if __name__ == '__main__':\n",
    "    parser = argparse.ArgumentParser(description=__doc__, formatter_class=argparse.ArgumentDefaultsHelpFormatter)\n",
    "    parser.add_argument(\"-dcm_path\", \"--dcm_path\", type=str)\n",
    "    parser.add_argument(\"-jpg_path\", \"--jpg_path\", type=str)\n",
    "    args = parser.parse_args()\n",
    "    dcm_path = args.dcm_path\n",
    "    jpg_path = args.jpg_path\n",
    "\n",
    "    if not os.path.exists(jpg_path):\n",
    "        os.makedirs(jpg_path)\n",
    "\n",
    "    prepare_images_njobs(glob(dcm_path+'/*'), jpg_path+'/')"
   ]
  },
  {
   "cell_type": "code",
   "execution_count": null,
   "id": "ff0cc471-abfd-4dbf-b66a-db5fc3aa1037",
   "metadata": {
    "tags": []
   },
   "outputs": [],
   "source": [
    "%%capture\n",
    "!python3 prepare_data.py -dcm_path 'rsna-intracranial-hemorrhage-detection/main_data/train_data_dcm/no_hemorrhage' -jpg_path 'rsna-intracranial-hemorrhage-detection/main_data/train_data/no_hemorrhage'\n",
    "!python3 prepare_data.py -dcm_path 'rsna-intracranial-hemorrhage-detection/main_data/train_data_dcm/hemorrhage' -jpg_path 'rsna-intracranial-hemorrhage-detection/main_data/train_data/hemorrhage'"
   ]
  },
  {
   "cell_type": "code",
   "execution_count": null,
   "id": "804a30e5-fdcb-4b1d-a85c-438bbaeb56e9",
   "metadata": {
    "tags": []
   },
   "outputs": [],
   "source": [
    "%%capture\n",
    "\n",
    "!aws s3 sync rsna-intracranial-hemorrhage-detection/main_data/train_data <S3 BUCKET> "
   ]
  },
  {
   "cell_type": "code",
   "execution_count": null,
   "id": "206d5e7e-f4a9-4710-b374-28d8c3cc09a0",
   "metadata": {},
   "outputs": [],
   "source": []
  }
 ],
 "metadata": {
  "availableInstances": [
   {
    "_defaultOrder": 0,
    "_isFastLaunch": true,
    "category": "General purpose",
    "gpuNum": 0,
    "hideHardwareSpecs": false,
    "memoryGiB": 4,
    "name": "ml.t3.medium",
    "vcpuNum": 2
   },
   {
    "_defaultOrder": 1,
    "_isFastLaunch": false,
    "category": "General purpose",
    "gpuNum": 0,
    "hideHardwareSpecs": false,
    "memoryGiB": 8,
    "name": "ml.t3.large",
    "vcpuNum": 2
   },
   {
    "_defaultOrder": 2,
    "_isFastLaunch": false,
    "category": "General purpose",
    "gpuNum": 0,
    "hideHardwareSpecs": false,
    "memoryGiB": 16,
    "name": "ml.t3.xlarge",
    "vcpuNum": 4
   },
   {
    "_defaultOrder": 3,
    "_isFastLaunch": false,
    "category": "General purpose",
    "gpuNum": 0,
    "hideHardwareSpecs": false,
    "memoryGiB": 32,
    "name": "ml.t3.2xlarge",
    "vcpuNum": 8
   },
   {
    "_defaultOrder": 4,
    "_isFastLaunch": true,
    "category": "General purpose",
    "gpuNum": 0,
    "hideHardwareSpecs": false,
    "memoryGiB": 8,
    "name": "ml.m5.large",
    "vcpuNum": 2
   },
   {
    "_defaultOrder": 5,
    "_isFastLaunch": false,
    "category": "General purpose",
    "gpuNum": 0,
    "hideHardwareSpecs": false,
    "memoryGiB": 16,
    "name": "ml.m5.xlarge",
    "vcpuNum": 4
   },
   {
    "_defaultOrder": 6,
    "_isFastLaunch": false,
    "category": "General purpose",
    "gpuNum": 0,
    "hideHardwareSpecs": false,
    "memoryGiB": 32,
    "name": "ml.m5.2xlarge",
    "vcpuNum": 8
   },
   {
    "_defaultOrder": 7,
    "_isFastLaunch": false,
    "category": "General purpose",
    "gpuNum": 0,
    "hideHardwareSpecs": false,
    "memoryGiB": 64,
    "name": "ml.m5.4xlarge",
    "vcpuNum": 16
   },
   {
    "_defaultOrder": 8,
    "_isFastLaunch": false,
    "category": "General purpose",
    "gpuNum": 0,
    "hideHardwareSpecs": false,
    "memoryGiB": 128,
    "name": "ml.m5.8xlarge",
    "vcpuNum": 32
   },
   {
    "_defaultOrder": 9,
    "_isFastLaunch": false,
    "category": "General purpose",
    "gpuNum": 0,
    "hideHardwareSpecs": false,
    "memoryGiB": 192,
    "name": "ml.m5.12xlarge",
    "vcpuNum": 48
   },
   {
    "_defaultOrder": 10,
    "_isFastLaunch": false,
    "category": "General purpose",
    "gpuNum": 0,
    "hideHardwareSpecs": false,
    "memoryGiB": 256,
    "name": "ml.m5.16xlarge",
    "vcpuNum": 64
   },
   {
    "_defaultOrder": 11,
    "_isFastLaunch": false,
    "category": "General purpose",
    "gpuNum": 0,
    "hideHardwareSpecs": false,
    "memoryGiB": 384,
    "name": "ml.m5.24xlarge",
    "vcpuNum": 96
   },
   {
    "_defaultOrder": 12,
    "_isFastLaunch": false,
    "category": "General purpose",
    "gpuNum": 0,
    "hideHardwareSpecs": false,
    "memoryGiB": 8,
    "name": "ml.m5d.large",
    "vcpuNum": 2
   },
   {
    "_defaultOrder": 13,
    "_isFastLaunch": false,
    "category": "General purpose",
    "gpuNum": 0,
    "hideHardwareSpecs": false,
    "memoryGiB": 16,
    "name": "ml.m5d.xlarge",
    "vcpuNum": 4
   },
   {
    "_defaultOrder": 14,
    "_isFastLaunch": false,
    "category": "General purpose",
    "gpuNum": 0,
    "hideHardwareSpecs": false,
    "memoryGiB": 32,
    "name": "ml.m5d.2xlarge",
    "vcpuNum": 8
   },
   {
    "_defaultOrder": 15,
    "_isFastLaunch": false,
    "category": "General purpose",
    "gpuNum": 0,
    "hideHardwareSpecs": false,
    "memoryGiB": 64,
    "name": "ml.m5d.4xlarge",
    "vcpuNum": 16
   },
   {
    "_defaultOrder": 16,
    "_isFastLaunch": false,
    "category": "General purpose",
    "gpuNum": 0,
    "hideHardwareSpecs": false,
    "memoryGiB": 128,
    "name": "ml.m5d.8xlarge",
    "vcpuNum": 32
   },
   {
    "_defaultOrder": 17,
    "_isFastLaunch": false,
    "category": "General purpose",
    "gpuNum": 0,
    "hideHardwareSpecs": false,
    "memoryGiB": 192,
    "name": "ml.m5d.12xlarge",
    "vcpuNum": 48
   },
   {
    "_defaultOrder": 18,
    "_isFastLaunch": false,
    "category": "General purpose",
    "gpuNum": 0,
    "hideHardwareSpecs": false,
    "memoryGiB": 256,
    "name": "ml.m5d.16xlarge",
    "vcpuNum": 64
   },
   {
    "_defaultOrder": 19,
    "_isFastLaunch": false,
    "category": "General purpose",
    "gpuNum": 0,
    "hideHardwareSpecs": false,
    "memoryGiB": 384,
    "name": "ml.m5d.24xlarge",
    "vcpuNum": 96
   },
   {
    "_defaultOrder": 20,
    "_isFastLaunch": false,
    "category": "General purpose",
    "gpuNum": 0,
    "hideHardwareSpecs": true,
    "memoryGiB": 0,
    "name": "ml.geospatial.interactive",
    "supportedImageNames": [
     "sagemaker-geospatial-v1-0"
    ],
    "vcpuNum": 0
   },
   {
    "_defaultOrder": 21,
    "_isFastLaunch": true,
    "category": "Compute optimized",
    "gpuNum": 0,
    "hideHardwareSpecs": false,
    "memoryGiB": 4,
    "name": "ml.c5.large",
    "vcpuNum": 2
   },
   {
    "_defaultOrder": 22,
    "_isFastLaunch": false,
    "category": "Compute optimized",
    "gpuNum": 0,
    "hideHardwareSpecs": false,
    "memoryGiB": 8,
    "name": "ml.c5.xlarge",
    "vcpuNum": 4
   },
   {
    "_defaultOrder": 23,
    "_isFastLaunch": false,
    "category": "Compute optimized",
    "gpuNum": 0,
    "hideHardwareSpecs": false,
    "memoryGiB": 16,
    "name": "ml.c5.2xlarge",
    "vcpuNum": 8
   },
   {
    "_defaultOrder": 24,
    "_isFastLaunch": false,
    "category": "Compute optimized",
    "gpuNum": 0,
    "hideHardwareSpecs": false,
    "memoryGiB": 32,
    "name": "ml.c5.4xlarge",
    "vcpuNum": 16
   },
   {
    "_defaultOrder": 25,
    "_isFastLaunch": false,
    "category": "Compute optimized",
    "gpuNum": 0,
    "hideHardwareSpecs": false,
    "memoryGiB": 72,
    "name": "ml.c5.9xlarge",
    "vcpuNum": 36
   },
   {
    "_defaultOrder": 26,
    "_isFastLaunch": false,
    "category": "Compute optimized",
    "gpuNum": 0,
    "hideHardwareSpecs": false,
    "memoryGiB": 96,
    "name": "ml.c5.12xlarge",
    "vcpuNum": 48
   },
   {
    "_defaultOrder": 27,
    "_isFastLaunch": false,
    "category": "Compute optimized",
    "gpuNum": 0,
    "hideHardwareSpecs": false,
    "memoryGiB": 144,
    "name": "ml.c5.18xlarge",
    "vcpuNum": 72
   },
   {
    "_defaultOrder": 28,
    "_isFastLaunch": false,
    "category": "Compute optimized",
    "gpuNum": 0,
    "hideHardwareSpecs": false,
    "memoryGiB": 192,
    "name": "ml.c5.24xlarge",
    "vcpuNum": 96
   },
   {
    "_defaultOrder": 29,
    "_isFastLaunch": true,
    "category": "Accelerated computing",
    "gpuNum": 1,
    "hideHardwareSpecs": false,
    "memoryGiB": 16,
    "name": "ml.g4dn.xlarge",
    "vcpuNum": 4
   },
   {
    "_defaultOrder": 30,
    "_isFastLaunch": false,
    "category": "Accelerated computing",
    "gpuNum": 1,
    "hideHardwareSpecs": false,
    "memoryGiB": 32,
    "name": "ml.g4dn.2xlarge",
    "vcpuNum": 8
   },
   {
    "_defaultOrder": 31,
    "_isFastLaunch": false,
    "category": "Accelerated computing",
    "gpuNum": 1,
    "hideHardwareSpecs": false,
    "memoryGiB": 64,
    "name": "ml.g4dn.4xlarge",
    "vcpuNum": 16
   },
   {
    "_defaultOrder": 32,
    "_isFastLaunch": false,
    "category": "Accelerated computing",
    "gpuNum": 1,
    "hideHardwareSpecs": false,
    "memoryGiB": 128,
    "name": "ml.g4dn.8xlarge",
    "vcpuNum": 32
   },
   {
    "_defaultOrder": 33,
    "_isFastLaunch": false,
    "category": "Accelerated computing",
    "gpuNum": 4,
    "hideHardwareSpecs": false,
    "memoryGiB": 192,
    "name": "ml.g4dn.12xlarge",
    "vcpuNum": 48
   },
   {
    "_defaultOrder": 34,
    "_isFastLaunch": false,
    "category": "Accelerated computing",
    "gpuNum": 1,
    "hideHardwareSpecs": false,
    "memoryGiB": 256,
    "name": "ml.g4dn.16xlarge",
    "vcpuNum": 64
   },
   {
    "_defaultOrder": 35,
    "_isFastLaunch": false,
    "category": "Accelerated computing",
    "gpuNum": 1,
    "hideHardwareSpecs": false,
    "memoryGiB": 61,
    "name": "ml.p3.2xlarge",
    "vcpuNum": 8
   },
   {
    "_defaultOrder": 36,
    "_isFastLaunch": false,
    "category": "Accelerated computing",
    "gpuNum": 4,
    "hideHardwareSpecs": false,
    "memoryGiB": 244,
    "name": "ml.p3.8xlarge",
    "vcpuNum": 32
   },
   {
    "_defaultOrder": 37,
    "_isFastLaunch": false,
    "category": "Accelerated computing",
    "gpuNum": 8,
    "hideHardwareSpecs": false,
    "memoryGiB": 488,
    "name": "ml.p3.16xlarge",
    "vcpuNum": 64
   },
   {
    "_defaultOrder": 38,
    "_isFastLaunch": false,
    "category": "Accelerated computing",
    "gpuNum": 8,
    "hideHardwareSpecs": false,
    "memoryGiB": 768,
    "name": "ml.p3dn.24xlarge",
    "vcpuNum": 96
   },
   {
    "_defaultOrder": 39,
    "_isFastLaunch": false,
    "category": "Memory Optimized",
    "gpuNum": 0,
    "hideHardwareSpecs": false,
    "memoryGiB": 16,
    "name": "ml.r5.large",
    "vcpuNum": 2
   },
   {
    "_defaultOrder": 40,
    "_isFastLaunch": false,
    "category": "Memory Optimized",
    "gpuNum": 0,
    "hideHardwareSpecs": false,
    "memoryGiB": 32,
    "name": "ml.r5.xlarge",
    "vcpuNum": 4
   },
   {
    "_defaultOrder": 41,
    "_isFastLaunch": false,
    "category": "Memory Optimized",
    "gpuNum": 0,
    "hideHardwareSpecs": false,
    "memoryGiB": 64,
    "name": "ml.r5.2xlarge",
    "vcpuNum": 8
   },
   {
    "_defaultOrder": 42,
    "_isFastLaunch": false,
    "category": "Memory Optimized",
    "gpuNum": 0,
    "hideHardwareSpecs": false,
    "memoryGiB": 128,
    "name": "ml.r5.4xlarge",
    "vcpuNum": 16
   },
   {
    "_defaultOrder": 43,
    "_isFastLaunch": false,
    "category": "Memory Optimized",
    "gpuNum": 0,
    "hideHardwareSpecs": false,
    "memoryGiB": 256,
    "name": "ml.r5.8xlarge",
    "vcpuNum": 32
   },
   {
    "_defaultOrder": 44,
    "_isFastLaunch": false,
    "category": "Memory Optimized",
    "gpuNum": 0,
    "hideHardwareSpecs": false,
    "memoryGiB": 384,
    "name": "ml.r5.12xlarge",
    "vcpuNum": 48
   },
   {
    "_defaultOrder": 45,
    "_isFastLaunch": false,
    "category": "Memory Optimized",
    "gpuNum": 0,
    "hideHardwareSpecs": false,
    "memoryGiB": 512,
    "name": "ml.r5.16xlarge",
    "vcpuNum": 64
   },
   {
    "_defaultOrder": 46,
    "_isFastLaunch": false,
    "category": "Memory Optimized",
    "gpuNum": 0,
    "hideHardwareSpecs": false,
    "memoryGiB": 768,
    "name": "ml.r5.24xlarge",
    "vcpuNum": 96
   },
   {
    "_defaultOrder": 47,
    "_isFastLaunch": false,
    "category": "Accelerated computing",
    "gpuNum": 1,
    "hideHardwareSpecs": false,
    "memoryGiB": 16,
    "name": "ml.g5.xlarge",
    "vcpuNum": 4
   },
   {
    "_defaultOrder": 48,
    "_isFastLaunch": false,
    "category": "Accelerated computing",
    "gpuNum": 1,
    "hideHardwareSpecs": false,
    "memoryGiB": 32,
    "name": "ml.g5.2xlarge",
    "vcpuNum": 8
   },
   {
    "_defaultOrder": 49,
    "_isFastLaunch": false,
    "category": "Accelerated computing",
    "gpuNum": 1,
    "hideHardwareSpecs": false,
    "memoryGiB": 64,
    "name": "ml.g5.4xlarge",
    "vcpuNum": 16
   },
   {
    "_defaultOrder": 50,
    "_isFastLaunch": false,
    "category": "Accelerated computing",
    "gpuNum": 1,
    "hideHardwareSpecs": false,
    "memoryGiB": 128,
    "name": "ml.g5.8xlarge",
    "vcpuNum": 32
   },
   {
    "_defaultOrder": 51,
    "_isFastLaunch": false,
    "category": "Accelerated computing",
    "gpuNum": 1,
    "hideHardwareSpecs": false,
    "memoryGiB": 256,
    "name": "ml.g5.16xlarge",
    "vcpuNum": 64
   },
   {
    "_defaultOrder": 52,
    "_isFastLaunch": false,
    "category": "Accelerated computing",
    "gpuNum": 4,
    "hideHardwareSpecs": false,
    "memoryGiB": 192,
    "name": "ml.g5.12xlarge",
    "vcpuNum": 48
   },
   {
    "_defaultOrder": 53,
    "_isFastLaunch": false,
    "category": "Accelerated computing",
    "gpuNum": 4,
    "hideHardwareSpecs": false,
    "memoryGiB": 384,
    "name": "ml.g5.24xlarge",
    "vcpuNum": 96
   },
   {
    "_defaultOrder": 54,
    "_isFastLaunch": false,
    "category": "Accelerated computing",
    "gpuNum": 8,
    "hideHardwareSpecs": false,
    "memoryGiB": 768,
    "name": "ml.g5.48xlarge",
    "vcpuNum": 192
   },
   {
    "_defaultOrder": 55,
    "_isFastLaunch": false,
    "category": "Accelerated computing",
    "gpuNum": 8,
    "hideHardwareSpecs": false,
    "memoryGiB": 1152,
    "name": "ml.p4d.24xlarge",
    "vcpuNum": 96
   },
   {
    "_defaultOrder": 56,
    "_isFastLaunch": false,
    "category": "Accelerated computing",
    "gpuNum": 8,
    "hideHardwareSpecs": false,
    "memoryGiB": 1152,
    "name": "ml.p4de.24xlarge",
    "vcpuNum": 96
   }
  ],
  "instance_type": "ml.t3.medium",
  "kernelspec": {
   "display_name": "Python 3 (TensorFlow 2.11.0 Python 3.9 CPU Optimized)",
   "language": "python",
   "name": "python3__SAGEMAKER_INTERNAL__arn:aws:sagemaker:us-east-1:081325390199:image/tensorflow-2.11.0-cpu-py39-ubuntu20.04-sagemaker-v1.1"
  },
  "language_info": {
   "codemirror_mode": {
    "name": "ipython",
    "version": 3
   },
   "file_extension": ".py",
   "mimetype": "text/x-python",
   "name": "python",
   "nbconvert_exporter": "python",
   "pygments_lexer": "ipython3",
   "version": "3.9.10"
  }
 },
 "nbformat": 4,
 "nbformat_minor": 5
}
